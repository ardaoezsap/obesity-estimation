{
 "cells": [
  {
   "cell_type": "markdown",
   "source": [
    "# Estimation of Obesity Levels\n",
    "\n",
    "## Project Overview\n",
    "This notebook analyzes an obesity dataset to predict obesity levels based on various factors such as eating habits, physical activity, and demographics.\n",
    "\n",
    "### **Dataset Overview**\n",
    "The dataset contains various features related to diet, lifestyle, and body measurements.\n",
    "We will preprocess the data, perform feature engineering, and apply machine learning models.\n",
    "\n",
    "### **Steps Covered**\n",
    "- Data loading and exploration\n",
    "- Data preprocessing (encoding, normalization, handling missing values)\n",
    "- Model training and evaluation"
   ],
   "metadata": {
    "collapsed": false
   },
   "id": "4b849d94f00454de"
  },
  {
   "cell_type": "code",
   "execution_count": 1,
   "id": "initial_id",
   "metadata": {
    "collapsed": true,
    "ExecuteTime": {
     "end_time": "2025-03-19T17:18:47.286152Z",
     "start_time": "2025-03-19T17:18:46.976974Z"
    }
   },
   "outputs": [],
   "source": [
    "import pandas as pd\n",
    "import numpy as np\n",
    "\n",
    "df = pd.read_csv(\"ObesityDataSet_raw_and_data_sinthetic.csv\")\n"
   ]
  },
  {
   "cell_type": "code",
   "outputs": [
    {
     "data": {
      "text/plain": "   Gender   Age  Height  Weight family_history_with_overweight FAVC  FCVC  \\\n0  Female  21.0    1.62    64.0                            yes   no   2.0   \n1  Female  21.0    1.52    56.0                            yes   no   3.0   \n2    Male  23.0    1.80    77.0                            yes   no   2.0   \n3    Male  27.0    1.80    87.0                             no   no   3.0   \n4    Male  22.0    1.78    89.8                             no   no   2.0   \n\n   NCP       CAEC SMOKE  CH2O  SCC  FAF  TUE        CALC  \\\n0  3.0  Sometimes    no   2.0   no  0.0  1.0          no   \n1  3.0  Sometimes   yes   3.0  yes  3.0  0.0   Sometimes   \n2  3.0  Sometimes    no   2.0   no  2.0  1.0  Frequently   \n3  3.0  Sometimes    no   2.0   no  2.0  0.0  Frequently   \n4  1.0  Sometimes    no   2.0   no  0.0  0.0   Sometimes   \n\n                  MTRANS           NObeyesdad  \n0  Public_Transportation        Normal_Weight  \n1  Public_Transportation        Normal_Weight  \n2  Public_Transportation        Normal_Weight  \n3                Walking   Overweight_Level_I  \n4  Public_Transportation  Overweight_Level_II  ",
      "text/html": "<div>\n<style scoped>\n    .dataframe tbody tr th:only-of-type {\n        vertical-align: middle;\n    }\n\n    .dataframe tbody tr th {\n        vertical-align: top;\n    }\n\n    .dataframe thead th {\n        text-align: right;\n    }\n</style>\n<table border=\"1\" class=\"dataframe\">\n  <thead>\n    <tr style=\"text-align: right;\">\n      <th></th>\n      <th>Gender</th>\n      <th>Age</th>\n      <th>Height</th>\n      <th>Weight</th>\n      <th>family_history_with_overweight</th>\n      <th>FAVC</th>\n      <th>FCVC</th>\n      <th>NCP</th>\n      <th>CAEC</th>\n      <th>SMOKE</th>\n      <th>CH2O</th>\n      <th>SCC</th>\n      <th>FAF</th>\n      <th>TUE</th>\n      <th>CALC</th>\n      <th>MTRANS</th>\n      <th>NObeyesdad</th>\n    </tr>\n  </thead>\n  <tbody>\n    <tr>\n      <th>0</th>\n      <td>Female</td>\n      <td>21.0</td>\n      <td>1.62</td>\n      <td>64.0</td>\n      <td>yes</td>\n      <td>no</td>\n      <td>2.0</td>\n      <td>3.0</td>\n      <td>Sometimes</td>\n      <td>no</td>\n      <td>2.0</td>\n      <td>no</td>\n      <td>0.0</td>\n      <td>1.0</td>\n      <td>no</td>\n      <td>Public_Transportation</td>\n      <td>Normal_Weight</td>\n    </tr>\n    <tr>\n      <th>1</th>\n      <td>Female</td>\n      <td>21.0</td>\n      <td>1.52</td>\n      <td>56.0</td>\n      <td>yes</td>\n      <td>no</td>\n      <td>3.0</td>\n      <td>3.0</td>\n      <td>Sometimes</td>\n      <td>yes</td>\n      <td>3.0</td>\n      <td>yes</td>\n      <td>3.0</td>\n      <td>0.0</td>\n      <td>Sometimes</td>\n      <td>Public_Transportation</td>\n      <td>Normal_Weight</td>\n    </tr>\n    <tr>\n      <th>2</th>\n      <td>Male</td>\n      <td>23.0</td>\n      <td>1.80</td>\n      <td>77.0</td>\n      <td>yes</td>\n      <td>no</td>\n      <td>2.0</td>\n      <td>3.0</td>\n      <td>Sometimes</td>\n      <td>no</td>\n      <td>2.0</td>\n      <td>no</td>\n      <td>2.0</td>\n      <td>1.0</td>\n      <td>Frequently</td>\n      <td>Public_Transportation</td>\n      <td>Normal_Weight</td>\n    </tr>\n    <tr>\n      <th>3</th>\n      <td>Male</td>\n      <td>27.0</td>\n      <td>1.80</td>\n      <td>87.0</td>\n      <td>no</td>\n      <td>no</td>\n      <td>3.0</td>\n      <td>3.0</td>\n      <td>Sometimes</td>\n      <td>no</td>\n      <td>2.0</td>\n      <td>no</td>\n      <td>2.0</td>\n      <td>0.0</td>\n      <td>Frequently</td>\n      <td>Walking</td>\n      <td>Overweight_Level_I</td>\n    </tr>\n    <tr>\n      <th>4</th>\n      <td>Male</td>\n      <td>22.0</td>\n      <td>1.78</td>\n      <td>89.8</td>\n      <td>no</td>\n      <td>no</td>\n      <td>2.0</td>\n      <td>1.0</td>\n      <td>Sometimes</td>\n      <td>no</td>\n      <td>2.0</td>\n      <td>no</td>\n      <td>0.0</td>\n      <td>0.0</td>\n      <td>Sometimes</td>\n      <td>Public_Transportation</td>\n      <td>Overweight_Level_II</td>\n    </tr>\n  </tbody>\n</table>\n</div>"
     },
     "execution_count": 2,
     "metadata": {},
     "output_type": "execute_result"
    }
   ],
   "source": [
    "df.head()"
   ],
   "metadata": {
    "collapsed": false,
    "ExecuteTime": {
     "end_time": "2025-03-19T17:18:47.297533Z",
     "start_time": "2025-03-19T17:18:47.287410Z"
    }
   },
   "id": "dddf34c01a8705bd",
   "execution_count": 2
  },
  {
   "cell_type": "code",
   "outputs": [
    {
     "name": "stdout",
     "output_type": "stream",
     "text": [
      "<class 'pandas.core.frame.DataFrame'>\n",
      "RangeIndex: 2111 entries, 0 to 2110\n",
      "Data columns (total 17 columns):\n",
      " #   Column                          Non-Null Count  Dtype  \n",
      "---  ------                          --------------  -----  \n",
      " 0   Gender                          2111 non-null   object \n",
      " 1   Age                             2111 non-null   float64\n",
      " 2   Height                          2111 non-null   float64\n",
      " 3   Weight                          2111 non-null   float64\n",
      " 4   family_history_with_overweight  2111 non-null   object \n",
      " 5   FAVC                            2111 non-null   object \n",
      " 6   FCVC                            2111 non-null   float64\n",
      " 7   NCP                             2111 non-null   float64\n",
      " 8   CAEC                            2111 non-null   object \n",
      " 9   SMOKE                           2111 non-null   object \n",
      " 10  CH2O                            2111 non-null   float64\n",
      " 11  SCC                             2111 non-null   object \n",
      " 12  FAF                             2111 non-null   float64\n",
      " 13  TUE                             2111 non-null   float64\n",
      " 14  CALC                            2111 non-null   object \n",
      " 15  MTRANS                          2111 non-null   object \n",
      " 16  NObeyesdad                      2111 non-null   object \n",
      "dtypes: float64(8), object(9)\n",
      "memory usage: 280.5+ KB\n"
     ]
    }
   ],
   "source": [
    "df.info()"
   ],
   "metadata": {
    "collapsed": false,
    "ExecuteTime": {
     "end_time": "2025-03-19T17:18:47.304371Z",
     "start_time": "2025-03-19T17:18:47.298264Z"
    }
   },
   "id": "ac012afb04d5395c",
   "execution_count": 3
  },
  {
   "cell_type": "markdown",
   "source": [
    "Convert NObeyesdad to Numerical Values"
   ],
   "metadata": {
    "collapsed": false
   },
   "id": "ab5ce11defbeecd"
  },
  {
   "cell_type": "code",
   "outputs": [],
   "source": [
    "\n",
    "# Define obesity levels mapping\n",
    "obesity_mapping = {\n",
    "    \"Normal_Weight\": 0,\n",
    "    \"Overweight_Level_I\": 1,\n",
    "    \"Overweight_Level_II\": 2,\n",
    "    \"Obesity_Type_I\": 3,\n",
    "    \"Obesity_Type_II\": 4,\n",
    "    \"Obesity_Type_III\": 5\n",
    "}\n",
    "\n",
    "\n",
    "# Apply mapping to convert `NObeyesdad` to numerical values\n",
    "df[\"Obesity_Level\"] = df[\"NObeyesdad\"].map(obesity_mapping)\n",
    "\n",
    "df = df.dropna(subset=[\"Obesity_Level\"])\n",
    "\n",
    "# Ensure target column is an integer (not float)\n",
    "df[\"Obesity_Level\"] = df[\"Obesity_Level\"].astype(int)\n",
    "\n",
    "# Drop the original categorical column\n",
    "df = df.drop(columns=[\"NObeyesdad\"])"
   ],
   "metadata": {
    "collapsed": false,
    "ExecuteTime": {
     "end_time": "2025-03-19T17:18:47.310323Z",
     "start_time": "2025-03-19T17:18:47.305537Z"
    }
   },
   "id": "c079ddc5e842312e",
   "execution_count": 4
  },
  {
   "cell_type": "markdown",
   "source": [
    "Encode Categorical Variables via One-Hot Encoding"
   ],
   "metadata": {
    "collapsed": false
   },
   "id": "36da1ec82ce85342"
  },
  {
   "cell_type": "code",
   "outputs": [],
   "source": [
    "# Identify categorical columns (excluding target)\n",
    "categorical_cols = df.select_dtypes(include=['object']).columns\n",
    "\n",
    "# Apply One-Hot Encoding\n",
    "df = pd.get_dummies(df, columns=categorical_cols, drop_first=True)"
   ],
   "metadata": {
    "collapsed": false,
    "ExecuteTime": {
     "end_time": "2025-03-19T17:18:47.316426Z",
     "start_time": "2025-03-19T17:18:47.311052Z"
    }
   },
   "id": "a6bf8350b8dffc0a",
   "execution_count": 5
  },
  {
   "cell_type": "markdown",
   "source": [
    "Normalize Numerical Columns"
   ],
   "metadata": {
    "collapsed": false
   },
   "id": "37374ea580575f55"
  },
  {
   "cell_type": "code",
   "outputs": [],
   "source": [
    "from sklearn.preprocessing import MinMaxScaler\n",
    "\n",
    "# Identify numerical columns (excluding the target)\n",
    "numerical_cols = df.select_dtypes(include=['float64']).columns\n",
    "\n",
    "# Apply Min-Max Scaling\n",
    "scaler = MinMaxScaler()\n",
    "df[numerical_cols] = scaler.fit_transform(df[numerical_cols])"
   ],
   "metadata": {
    "collapsed": false,
    "ExecuteTime": {
     "end_time": "2025-03-19T17:18:47.996663Z",
     "start_time": "2025-03-19T17:18:47.317129Z"
    }
   },
   "id": "77600bddded7a241",
   "execution_count": 6
  },
  {
   "cell_type": "markdown",
   "source": [
    "Train-Test Split"
   ],
   "metadata": {
    "collapsed": false
   },
   "id": "8904a9c93877e067"
  },
  {
   "cell_type": "code",
   "outputs": [
    {
     "name": "stdout",
     "output_type": "stream",
     "text": [
      "Training samples: 1471, Testing samples: 368\n"
     ]
    }
   ],
   "source": [
    "from sklearn.model_selection import train_test_split\n",
    "\n",
    "\n",
    "# Define Features (X) and Target (y)\n",
    "X = df.drop(columns=[\"Obesity_Level\"])  # Features\n",
    "y = df[\"Obesity_Level\"]  # Target\n",
    "\n",
    "# Split into 80% training, 20% testing\n",
    "X_train, X_test, y_train, y_test = train_test_split(X, y, test_size=0.2, random_state=42)\n",
    "\n",
    "print(f\"Training samples: {X_train.shape[0]}, Testing samples: {X_test.shape[0]}\")\n"
   ],
   "metadata": {
    "collapsed": false,
    "ExecuteTime": {
     "end_time": "2025-03-19T17:18:48.061015Z",
     "start_time": "2025-03-19T17:18:47.999836Z"
    }
   },
   "id": "636ca29933d8463d",
   "execution_count": 7
  },
  {
   "cell_type": "markdown",
   "source": [
    "Machine Learning Model"
   ],
   "metadata": {
    "collapsed": false
   },
   "id": "4ad657d8332e07fd"
  },
  {
   "cell_type": "code",
   "outputs": [
    {
     "name": "stdout",
     "output_type": "stream",
     "text": [
      "Accuracy: 0.9402173913043478\n",
      "              precision    recall  f1-score   support\n",
      "\n",
      "           0       0.82      0.95      0.88        63\n",
      "           1       0.98      0.82      0.89        61\n",
      "           2       0.89      0.89      0.89        55\n",
      "           3       0.97      0.97      0.97        64\n",
      "           4       1.00      1.00      1.00        66\n",
      "           5       1.00      1.00      1.00        59\n",
      "\n",
      "    accuracy                           0.94       368\n",
      "   macro avg       0.94      0.94      0.94       368\n",
      "weighted avg       0.94      0.94      0.94       368\n"
     ]
    }
   ],
   "source": [
    "from sklearn.ensemble import RandomForestClassifier\n",
    "from sklearn.metrics import accuracy_score, classification_report\n",
    "\n",
    "# Initialize and train the model\n",
    "model = RandomForestClassifier(n_estimators=100, random_state=42)\n",
    "model.fit(X_train, y_train)\n",
    "\n",
    "# Predict on the test set\n",
    "y_pred = model.predict(X_test)\n",
    "\n",
    "# Evaluate model performance\n",
    "print(\"Accuracy:\", accuracy_score(y_test, y_pred))\n",
    "print(classification_report(y_test, y_pred))"
   ],
   "metadata": {
    "collapsed": false,
    "ExecuteTime": {
     "end_time": "2025-03-19T17:18:48.385460Z",
     "start_time": "2025-03-19T17:18:48.062351Z"
    }
   },
   "id": "3c0ae3319c6fd8a0",
   "execution_count": 8
  },
  {
   "cell_type": "code",
   "outputs": [
    {
     "name": "stdout",
     "output_type": "stream",
     "text": [
      "Fitting 5 folds for each of 162 candidates, totalling 810 fits\n",
      "Best Parameters: {'max_depth': 20, 'max_features': 'sqrt', 'min_samples_leaf': 1, 'min_samples_split': 2, 'n_estimators': 200}\n"
     ]
    }
   ],
   "source": [
    "from sklearn.ensemble import RandomForestClassifier\n",
    "from sklearn.model_selection import GridSearchCV\n",
    "\n",
    "param_grid = {\n",
    "    \"n_estimators\": [100, 200, 300],  # More trees for better performance\n",
    "    \"max_depth\": [10, 20, None],  # Control overfitting\n",
    "    \"min_samples_split\": [2, 5, 10],  # Min samples needed for splitting\n",
    "    \"min_samples_leaf\": [1, 2, 4],  # Min samples per leaf (regularization)\n",
    "    \"max_features\": [\"sqrt\", \"log2\"]  # Feature selection per split\n",
    "}\n",
    "\n",
    "# Initialize base model\n",
    "rf = RandomForestClassifier(random_state=42)\n",
    "\n",
    "# Perform Grid Search\n",
    "grid_search = GridSearchCV(rf, param_grid, cv=5, n_jobs=-1, verbose=2)\n",
    "grid_search.fit(X_train, y_train)\n",
    "\n",
    "# Print best parameters\n",
    "print(\"Best Parameters:\", grid_search.best_params_)\n",
    "\n",
    "# Train best model\n",
    "best_model = grid_search.best_estimator_"
   ],
   "metadata": {
    "collapsed": false,
    "ExecuteTime": {
     "end_time": "2025-03-19T17:19:32.425925Z",
     "start_time": "2025-03-19T17:18:48.386212Z"
    }
   },
   "id": "b549b26f68b7ff05",
   "execution_count": 9
  },
  {
   "cell_type": "code",
   "outputs": [
    {
     "data": {
      "text/plain": "<Figure size 1000x600 with 1 Axes>",
      "image/png": "[encoded data removed]"
     },
     "metadata": {},
     "output_type": "display_data"
    }
   ],
   "source": [
    "import matplotlib.pyplot as plt\n",
    "import numpy as np\n",
    "\n",
    "# Get feature importance\n",
    "feature_importances = best_model.feature_importances_\n",
    "sorted_indices = np.argsort(feature_importances)[::-1]  # Sort descending\n",
    "\n",
    "# Plot feature importance\n",
    "plt.figure(figsize=(10, 6))\n",
    "plt.bar(range(X_train.shape[1]), feature_importances[sorted_indices], align=\"center\")\n",
    "plt.xticks(range(X_train.shape[1]), X_train.columns[sorted_indices], rotation=90)\n",
    "plt.xlabel(\"Feature\")\n",
    "plt.ylabel(\"Importance\")\n",
    "plt.title(\"Feature Importance in Random Forest\")\n",
    "plt.show()\n"
   ],
   "metadata": {
    "collapsed": false,
    "ExecuteTime": {
     "end_time": "2025-03-19T17:19:32.800696Z",
     "start_time": "2025-03-19T17:19:32.428729Z"
    }
   },
   "id": "4978f59bece5ebef",
   "execution_count": 10
  },
  {
   "cell_type": "code",
   "outputs": [
    {
     "name": "stdout",
     "output_type": "stream",
     "text": [
      "Optimized Accuracy: 0.9510869565217391\n",
      "              precision    recall  f1-score   support\n",
      "\n",
      "           0       0.82      0.97      0.89        63\n",
      "           1       1.00      0.84      0.91        61\n",
      "           2       0.93      0.91      0.92        55\n",
      "           3       0.98      0.98      0.98        64\n",
      "           4       1.00      1.00      1.00        66\n",
      "           5       1.00      1.00      1.00        59\n",
      "\n",
      "    accuracy                           0.95       368\n",
      "   macro avg       0.96      0.95      0.95       368\n",
      "weighted avg       0.96      0.95      0.95       368\n"
     ]
    }
   ],
   "source": [
    "# Train with best parameters\n",
    "best_model.fit(X_train, y_train)\n",
    "\n",
    "# Make predictions\n",
    "y_pred = best_model.predict(X_test)\n",
    "\n",
    "# Evaluate performance\n",
    "from sklearn.metrics import accuracy_score, classification_report\n",
    "\n",
    "print(\"Optimized Accuracy:\", accuracy_score(y_test, y_pred))\n",
    "print(classification_report(y_test, y_pred))\n"
   ],
   "metadata": {
    "collapsed": false,
    "ExecuteTime": {
     "end_time": "2025-03-19T17:19:33.098782Z",
     "start_time": "2025-03-19T17:19:32.801452Z"
    }
   },
   "id": "52da9beb48acb0da",
   "execution_count": 11
  }
 ],
 "metadata": {
  "kernelspec": {
   "display_name": "Python 3",
   "language": "python",
   "name": "python3"
  },
  "language_info": {
   "codemirror_mode": {
    "name": "ipython",
    "version": 2
   },
   "file_extension": ".py",
   "mimetype": "text/x-python",
   "name": "python",
   "nbconvert_exporter": "python",
   "pygments_lexer": "ipython2",
   "version": "2.7.6"
  }
 },
 "nbformat": 4,
 "nbformat_minor": 5
}
